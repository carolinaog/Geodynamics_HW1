{
 "metadata": {
  "name": "",
  "signature": "sha256:df6b4bb0818c8e3e8230c04ff2439df4111e6d450ceefb70adff9c98ba5d3978"
 },
 "nbformat": 3,
 "nbformat_minor": 0,
 "worksheets": [
  {
   "cells": [
    {
     "cell_type": "code",
     "collapsed": false,
     "input": [
      "#Notebook for founding Hawaii's Hot Spot velocity field in Mauna Loa volcano.\n",
      "%pylab inline\n",
      "import math"
     ],
     "language": "python",
     "metadata": {},
     "outputs": [
      {
       "output_type": "stream",
       "stream": "stdout",
       "text": [
        "Populating the interactive namespace from numpy and matplotlib\n"
       ]
      }
     ],
     "prompt_number": 1
    },
    {
     "cell_type": "code",
     "collapsed": false,
     "input": [
      "#Values for latitude and longitude in radians \n",
      "#Values for Mauna Loa in Turcotte et.al\n",
      "\n",
      "Lambda_pole1=-61.7\n",
      "Lambda_pole=math.radians(Lambda_pole1)\n",
      "\n",
      "Lambda_HS1=20\n",
      "Lambda_HS=math.radians(Lambda_HS1)\n",
      "\n",
      "Phi_pole1=97.2\n",
      "Phi_pole=math.radians(Phi_pole1)\n",
      "\n",
      "Phi_HS1=-157\n",
      "Phi_HS=math.radians(Phi_HS1)\n",
      "\n",
      "#Euler pole's angular velocity (omega) in radians pr yr\n",
      "omega_rad=(9.67*(10**-7))*(3.14/180)\n",
      "omega_deg=(9.67*(10**-7))\n",
      "radio_tierra=(6371*(10**5)) #cm"
     ],
     "language": "python",
     "metadata": {},
     "outputs": [],
     "prompt_number": 2
    },
    {
     "cell_type": "code",
     "collapsed": false,
     "input": [
      "#Founding a; Fowler\u015b equation in Pg 15\n",
      "partial_a=(sin(Lambda_pole)*sin(Lambda_HS)+cos(Lambda_pole)*cos(Lambda_HS)*cos(Phi_pole-Phi_HS))\n",
      "a_rad=math.acos(partial_a)\n",
      "\n",
      "#now in degrees...\n",
      "a_deg=a_rad*(180/3.14)\n",
      "print a_deg"
     ],
     "language": "python",
     "metadata": {},
     "outputs": [
      {
       "output_type": "stream",
       "stream": "stdout",
       "text": [
        "115.047123014\n"
       ]
      }
     ],
     "prompt_number": 3
    },
    {
     "cell_type": "code",
     "collapsed": false,
     "input": [
      "#Founding c; Fowler\u015b equation in Pg 15\n",
      "partial_c=((cos(Lambda_pole)*sin(Phi_pole-Phi_HS))/sin(a_rad))\n",
      "c_rad=math.asin(partial_c)\n",
      "\n",
      "#now in degrees...\n",
      "c_deg=c_rad*(180/3.14)\n",
      "c_deg=abs(c_deg)\n",
      "\n",
      "print c_rad\n",
      "print c_deg\n"
     ],
     "language": "python",
     "metadata": {},
     "outputs": [
      {
       "output_type": "stream",
       "stream": "stdout",
       "text": [
        "-0.527400630763\n",
        "30.2331571775\n"
       ]
      }
     ],
     "prompt_number": 4
    },
    {
     "cell_type": "code",
     "collapsed": false,
     "input": [
      "#Tangential velocity\n",
      "velo_tan=radio_tierra*(sin(a_rad))*omega_rad\n",
      "print velo_tan #cm/yr"
     ],
     "language": "python",
     "metadata": {},
     "outputs": [
      {
       "output_type": "stream",
       "stream": "stdout",
       "text": [
        "9.74106662892\n"
       ]
      }
     ],
     "prompt_number": 5
    },
    {
     "cell_type": "code",
     "collapsed": false,
     "input": [
      "#For finding the direction we have to consider Fowler's equation where Betha=90+c. C is an angle that can be wether its value or its absolute\n",
      "#value. As it is tangential it also has a trend c+180.(Fowler Page 17)\n",
      "betha=90+(c_deg)\n",
      "betha+180"
     ],
     "language": "python",
     "metadata": {},
     "outputs": [
      {
       "metadata": {},
       "output_type": "pyout",
       "prompt_number": 6,
       "text": [
        "300.2331571774764"
       ]
      }
     ],
     "prompt_number": 6
    },
    {
     "cell_type": "code",
     "collapsed": false,
     "input": [],
     "language": "python",
     "metadata": {},
     "outputs": []
    }
   ],
   "metadata": {}
  }
 ]
}