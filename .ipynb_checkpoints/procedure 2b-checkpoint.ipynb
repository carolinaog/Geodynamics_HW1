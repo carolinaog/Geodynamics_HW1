{
 "metadata": {
  "name": "",
  "signature": "sha256:0810e789e3da38d67fb52e0bd8fd3aea041841cf16a542d6ad7be96ecb9e8a77"
 },
 "nbformat": 3,
 "nbformat_minor": 0,
 "worksheets": [
  {
   "cells": [
    {
     "cell_type": "code",
     "collapsed": false,
     "input": [
      "#Notebook for founding Hawaii's Hot Spot velocity field in the island we found more to the north.\n",
      "%pylab inline\n",
      "import math"
     ],
     "language": "python",
     "metadata": {},
     "outputs": [
      {
       "output_type": "stream",
       "stream": "stdout",
       "text": [
        "Populating the interactive namespace from numpy and matplotlib\n"
       ]
      }
     ],
     "prompt_number": 1
    },
    {
     "cell_type": "code",
     "collapsed": false,
     "input": [
      "#Values for latitude and longitude in radians \n",
      "#Euler's Pole information was taken from Fowler Pg13, with the information for the Norht-America - Pacific plate.\n",
      "#Values for this island were found in Google Earth.\n",
      "\n",
      "Lambda_pole1=48.7\n",
      "Lambda_pole=math.radians(Lambda_pole1)\n",
      "\n",
      "Lambda_HS1=51.2\n",
      "Lambda_HS=math.radians(Lambda_HS1)\n",
      "\n",
      "Phi_pole1=78.2\n",
      "Phi_pole=math.radians(Phi_pole1)\n",
      "\n",
      "Phi_HS1=167.65\n",
      "Phi_HS=math.radians(Phi_HS1)\n",
      "\n",
      "#Euler pole's angular velocity (omega) in radians pr yr\n",
      "omega_rad=(9.67*(10**-7))*(3.14/180)\n",
      "omega_deg=(9.67*(10**-7))\n",
      "radio_tierra=(6371*(10**5)) #cm"
     ],
     "language": "python",
     "metadata": {},
     "outputs": [],
     "prompt_number": 2
    },
    {
     "cell_type": "code",
     "collapsed": false,
     "input": [
      "#Founding a; Fowler\u015b equation in Pg 15\n",
      "partial_a=(sin(Lambda_pole)*sin(Lambda_HS)+cos(Lambda_pole)*cos(Lambda_HS)*cos(Phi_pole-Phi_HS))\n",
      "a_rad=math.acos(partial_a)\n",
      "\n",
      "#now in degrees...\n",
      "a_deg=a_rad*(180/3.14)\n",
      "print a_deg"
     ],
     "language": "python",
     "metadata": {},
     "outputs": [
      {
       "output_type": "stream",
       "stream": "stdout",
       "text": [
        "53.9087392432\n"
       ]
      }
     ],
     "prompt_number": 3
    },
    {
     "cell_type": "code",
     "collapsed": false,
     "input": [
      "#Founding c; Fowler\u015b equation in Pg 15\n",
      "partial_c=((cos(Lambda_pole)*sin(Phi_pole-Phi_HS))/sin(a_rad))\n",
      "c_rad=math.asin(partial_c)\n",
      "\n",
      "#now in degrees...\n",
      "c_deg=c_rad*(180/3.14)\n",
      "c_deg=abs(c_deg)\n",
      "#c_deg=(c_deg+90)\n",
      "print c_deg"
     ],
     "language": "python",
     "metadata": {},
     "outputs": [
      {
       "output_type": "stream",
       "stream": "stdout",
       "text": [
        "54.8133568293\n"
       ]
      }
     ],
     "prompt_number": 4
    },
    {
     "cell_type": "code",
     "collapsed": false,
     "input": [
      "#Tangential velocity\n",
      "velo_tan=radio_tierra*(sin(a_rad))*omega_rad\n",
      "print velo_tan #cm/yr"
     ],
     "language": "python",
     "metadata": {},
     "outputs": [
      {
       "output_type": "stream",
       "stream": "stdout",
       "text": [
        "8.68149173863\n"
       ]
      }
     ],
     "prompt_number": 5
    },
    {
     "cell_type": "code",
     "collapsed": false,
     "input": [
      "#For finding the direction we have to consider Fowler's equation where Betha=90+c. C is an angle that can be wether its value or \n",
      "betha=90+(c_deg)\n",
      "betha+180"
     ],
     "language": "python",
     "metadata": {},
     "outputs": [
      {
       "metadata": {},
       "output_type": "pyout",
       "prompt_number": 6,
       "text": [
        "324.8133568292761"
       ]
      }
     ],
     "prompt_number": 6
    }
   ],
   "metadata": {}
  }
 ]
}