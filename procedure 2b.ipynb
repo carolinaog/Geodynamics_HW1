{
 "metadata": {
  "name": "",
  "signature": "sha256:136990d97b8fc687cc23b80071c9a9dd9fbc0e7eaf3966ea8150645f8e64a63f"
 },
 "nbformat": 3,
 "nbformat_minor": 0,
 "worksheets": [
  {
   "cells": [
    {
     "cell_type": "code",
     "collapsed": false,
     "input": [
      "#Notebook for founding Hawaii's Hot Spot velocity field in Niihau Island, the island we found more to the north.\n",
      "%pylab inline\n",
      "import math"
     ],
     "language": "python",
     "metadata": {},
     "outputs": [
      {
       "output_type": "stream",
       "stream": "stdout",
       "text": [
        "Populating the interactive namespace from numpy and matplotlib\n"
       ]
      }
     ],
     "prompt_number": 1
    },
    {
     "cell_type": "code",
     "collapsed": false,
     "input": [
      "#Values for latitude and longitude in radians \n",
      "#Values for Mauna Loa in Turcotte et.al\n",
      "\n",
      "Lambda_pole1=-61.7\n",
      "Lambda_pole=math.radians(Lambda_pole1)\n",
      "\n",
      "Lambda_HS1=21.89\n",
      "Lambda_HS=math.radians(Lambda_HS1)\n",
      "\n",
      "Phi_pole1=97.2\n",
      "Phi_pole=math.radians(Phi_pole1)\n",
      "\n",
      "Phi_HS1=-160.154\n",
      "Phi_HS=math.radians(Phi_HS1)\n",
      "\n",
      "#Euler pole's angular velocity (omega) in radians pr yr\n",
      "omega_rad=(9.67*(10**-7))*(3.14/180)\n",
      "omega_deg=(9.67*(10**-7))\n",
      "radio_tierra=(6371*(10**5)) #cm"
     ],
     "language": "python",
     "metadata": {},
     "outputs": [],
     "prompt_number": 7
    },
    {
     "cell_type": "code",
     "collapsed": false,
     "input": [
      "#Founding a; Fowler\u015b equation in Pg 15\n",
      "partial_a=(sin(Lambda_pole)*sin(Lambda_HS)+cos(Lambda_pole)*cos(Lambda_HS)*cos(Phi_pole-Phi_HS))\n",
      "a_rad=math.acos(partial_a)\n",
      "\n",
      "#now in degrees...\n",
      "a_deg=a_rad*(180/3.14)\n",
      "print a_deg"
     ],
     "language": "python",
     "metadata": {},
     "outputs": [
      {
       "output_type": "stream",
       "stream": "stdout",
       "text": [
        "115.181974635\n"
       ]
      }
     ],
     "prompt_number": 8
    },
    {
     "cell_type": "code",
     "collapsed": false,
     "input": [
      "#Founding c; Fowler\u015b equation in Pg 15\n",
      "partial_c=((cos(Lambda_pole)*sin(Phi_pole-Phi_HS))/sin(a_rad))\n",
      "c_rad=math.asin(partial_c)\n",
      "\n",
      "#now in degrees...\n",
      "c_deg=c_rad*(180/3.14)\n",
      "c_deg=abs(c_deg)\n",
      "#c_deg=(c_deg+90)\n",
      "print c_deg"
     ],
     "language": "python",
     "metadata": {},
     "outputs": [
      {
       "output_type": "stream",
       "stream": "stdout",
       "text": [
        "30.7409707202\n"
       ]
      }
     ],
     "prompt_number": 9
    },
    {
     "cell_type": "code",
     "collapsed": false,
     "input": [
      "#Tangential velocity\n",
      "velo_tan=radio_tierra*(sin(a_rad))*omega_rad\n",
      "print velo_tan #cm/yr"
     ],
     "language": "python",
     "metadata": {},
     "outputs": [
      {
       "output_type": "stream",
       "stream": "stdout",
       "text": [
        "9.73035970022\n"
       ]
      }
     ],
     "prompt_number": 10
    },
    {
     "cell_type": "code",
     "collapsed": false,
     "input": [
      "#For finding the direction we have to consider Fowler's equation where Betha=90+c. C is an angle that can be wether its value or \n",
      "betha=90+(c_deg)\n",
      "betha+180"
     ],
     "language": "python",
     "metadata": {},
     "outputs": [
      {
       "metadata": {},
       "output_type": "pyout",
       "prompt_number": 11,
       "text": [
        "300.74097072021686"
       ]
      }
     ],
     "prompt_number": 11
    },
    {
     "cell_type": "code",
     "collapsed": false,
     "input": [],
     "language": "python",
     "metadata": {},
     "outputs": [],
     "prompt_number": 11
    },
    {
     "cell_type": "code",
     "collapsed": false,
     "input": [],
     "language": "python",
     "metadata": {},
     "outputs": []
    }
   ],
   "metadata": {}
  }
 ]
}