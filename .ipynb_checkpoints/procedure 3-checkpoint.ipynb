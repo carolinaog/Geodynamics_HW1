{
 "metadata": {
  "name": "",
  "signature": "sha256:109a1db6cde77e54f6ac0a15b5360c17167845fc549c75ae4a4a08a066903644"
 },
 "nbformat": 3,
 "nbformat_minor": 0,
 "worksheets": [
  {
   "cells": [
    {
     "cell_type": "code",
     "collapsed": false,
     "input": [
      "%pylab inline\n",
      "import math\n",
      "#notebook for calculating uplift rate in Tibet Plateau"
     ],
     "language": "python",
     "metadata": {},
     "outputs": [
      {
       "output_type": "stream",
       "stream": "stdout",
       "text": [
        "Populating the interactive namespace from numpy and matplotlib\n"
       ]
      },
      {
       "output_type": "stream",
       "stream": "stderr",
       "text": [
        "WARNING: pylab import has clobbered these variables: ['f', 'e']\n",
        "`%matplotlib` prevents importing * from pylab and numpy\n"
       ]
      }
     ],
     "prompt_number": 82
    },
    {
     "cell_type": "code",
     "collapsed": false,
     "input": [
      "#Values for latitude and longitude in radians \n",
      "#Values for Everest: http://www.latlong.net/place/mount-everest-14.html\n",
      "\n",
      "Lambda_pole1=24.4\n",
      "Lambda_pole=math.radians(Lambda_pole1)\n",
      "\n",
      "Lambda_Everest=27.98\n",
      "Lambda_Everest=math.radians(Lambda_Everest)\n",
      "\n",
      "Phi_pole1=17.7\n",
      "Phi_pole=math.radians(Phi_pole1)\n",
      "\n",
      "Phi_Everest1=86.92\n",
      "Phi_Everest=math.radians(Phi_Everest1)\n",
      "\n",
      "#Euler pole angular velocity in radians pr yr\n",
      "omega_rad=(5.3*(10**-7))*(3.14/180)\n",
      "omega_deg=(5.3*(10**-7))\n",
      "radio_tierra=(6371*(10**5))\n"
     ],
     "language": "python",
     "metadata": {},
     "outputs": [],
     "prompt_number": 76
    },
    {
     "cell_type": "code",
     "collapsed": false,
     "input": [
      "import math\n"
     ],
     "language": "python",
     "metadata": {},
     "outputs": [],
     "prompt_number": 55
    },
    {
     "cell_type": "code",
     "collapsed": false,
     "input": [
      "#Founding a; Fowler\u015b equation in Pg 15\n",
      "partial_a=(sin(Lambda_pole)*sin(Lambda_Everest)+cos(Lambda_pole)*cos(Lambda_Everest)*cos(Phi_pole-Phi_Everest))\n",
      "a_rad=math.acos(partial_a)\n",
      "\n",
      "#now in degrees...\n",
      "a_deg=a_rad*(180/3.14)\n",
      "print a_deg"
     ],
     "language": "python",
     "metadata": {},
     "outputs": [
      {
       "output_type": "stream",
       "stream": "stdout",
       "text": [
        "61.4018468007\n"
       ]
      },
      {
       "metadata": {},
       "output_type": "pyout",
       "prompt_number": 64,
       "text": [
        "0.87773822271404722"
       ]
      }
     ],
     "prompt_number": 64
    },
    {
     "cell_type": "code",
     "collapsed": false,
     "input": [
      "#Founding c; Fowler\u015b equation in Pg 15\n",
      "partial_c=((cos(Lambda_pole)*cos(Phi_pole-Phi_Everest))/sin(a_rad))\n",
      "c_rad=math.asin(partial_c)\n",
      "\n",
      "#now in degrees...\n",
      "c_deg=c_rad*(180/3.14)\n",
      "print c_deg"
     ],
     "language": "python",
     "metadata": {},
     "outputs": [
      {
       "output_type": "stream",
       "stream": "stdout",
       "text": [
        "21.6092649548\n"
       ]
      }
     ],
     "prompt_number": 74
    },
    {
     "cell_type": "code",
     "collapsed": false,
     "input": [
      "#Tangential velocity\n",
      "velo_tan=radio_tierra*(sin(a_rad))*omega_rad\n",
      "print velo_tan"
     ],
     "language": "python",
     "metadata": {},
     "outputs": [
      {
       "output_type": "stream",
       "stream": "stdout",
       "text": [
        "5.1701795861\n"
       ]
      }
     ],
     "prompt_number": 81
    },
    {
     "cell_type": "code",
     "collapsed": false,
     "input": [],
     "language": "python",
     "metadata": {},
     "outputs": [],
     "prompt_number": 80
    },
    {
     "cell_type": "code",
     "collapsed": false,
     "input": [],
     "language": "python",
     "metadata": {},
     "outputs": [],
     "prompt_number": 80
    },
    {
     "cell_type": "code",
     "collapsed": false,
     "input": [],
     "language": "python",
     "metadata": {},
     "outputs": []
    }
   ],
   "metadata": {}
  }
 ]
}